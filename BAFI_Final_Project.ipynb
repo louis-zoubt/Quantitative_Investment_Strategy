{
  "cells": [
    {
      "cell_type": "markdown",
      "metadata": {
        "id": "view-in-github",
        "colab_type": "text"
      },
      "source": [
        "<a href=\"https://colab.research.google.com/github/louis-zoubt/Quantitative_Investment_Strategy/blob/main/BAFI_Final_Project.ipynb\" target=\"_parent\"><img src=\"https://colab.research.google.com/assets/colab-badge.svg\" alt=\"Open In Colab\"/></a>"
      ]
    },
    {
      "cell_type": "code",
      "execution_count": null,
      "metadata": {
        "id": "bOi_7755UVUb",
        "colab": {
          "base_uri": "https://localhost:8080/"
        },
        "outputId": "4715b6d6-6d85-4d59-edcd-9676493570f9"
      },
      "outputs": [
        {
          "output_type": "stream",
          "name": "stdout",
          "text": [
            "Mounted at /content/drive\n"
          ]
        }
      ],
      "source": [
        "from google.colab import drive\n",
        "from google.colab import files\n",
        "drive.mount('/content/drive')"
      ]
    },
    {
      "cell_type": "code",
      "execution_count": null,
      "metadata": {
        "id": "8NNUPRSGUUID"
      },
      "outputs": [],
      "source": [
        "import pandas as pd\n",
        "import numpy as np\n",
        "import time\n",
        "import statsmodels.api as sm\n",
        "from tqdm import tqdm\n",
        "import os\n",
        "import matplotlib.pyplot as plt\n",
        "path_data = '/content/drive/My Drive/BAFI 508 Final project/Data/'\n"
      ]
    },
    {
      "cell_type": "code",
      "source": [
        "os.listdir(path_data)\n"
      ],
      "metadata": {
        "id": "eT4zoSlfcA2b",
        "colab": {
          "base_uri": "https://localhost:8080/"
        },
        "outputId": "f9e9b974-7521-48c7-a841-77676728c67b"
      },
      "execution_count": null,
      "outputs": [
        {
          "output_type": "execute_result",
          "data": {
            "text/plain": [
              "['Compustat_Annual_2018.csv',\n",
              " 'F-F_Research_Data_Factors_2018.csv',\n",
              " 'CRSP_Monthly_2018.csv',\n",
              " 'CRSP_Monthly_2022.csv',\n",
              " 'F-F_Research_Data_Factors.CSV',\n",
              " 'Compustat_Annual_2023.csv',\n",
              " 'Compustat_Annual_2023_1.csv',\n",
              " 'Compustat_Annual_2023_2.csv']"
            ]
          },
          "metadata": {},
          "execution_count": 5
        }
      ]
    },
    {
      "cell_type": "code",
      "execution_count": null,
      "metadata": {
        "id": "U8ADPoVQbNTU",
        "colab": {
          "base_uri": "https://localhost:8080/"
        },
        "outputId": "211ef322-d991-480d-cce9-45c48a93df7d"
      },
      "outputs": [
        {
          "output_type": "stream",
          "name": "stdout",
          "text": [
            "Prepare CRSP file\n",
            "   PERMNO        date  SHRCD  EXCHCD TICKER  HSICMG  FACPR  FACSHR     PRC  \\\n",
            "0   10000  1985-12-31    NaN     NaN    NaN     NaN    NaN     NaN     NaN   \n",
            "1   10000  1986-01-31   10.0     3.0  OMFGA     NaN    NaN     NaN -4.3750   \n",
            "2   10000  1986-02-28   10.0     3.0  OMFGA     NaN    NaN     NaN -3.2500   \n",
            "3   10000  1986-03-31   10.0     3.0  OMFGA     NaN    NaN     NaN -4.4375   \n",
            "4   10000  1986-04-30   10.0     3.0  OMFGA     NaN    NaN     NaN -4.0000   \n",
            "\n",
            "         RET  SHROUT  \n",
            "0        NaN     NaN  \n",
            "1          C  3680.0  \n",
            "2  -0.257143  3680.0  \n",
            "3   0.365385  3680.0  \n",
            "4  -0.098592  3793.0  \n",
            "PERMNO      int64\n",
            "date       object\n",
            "SHRCD     float64\n",
            "EXCHCD    float64\n",
            "TICKER     object\n",
            "HSICMG    float64\n",
            "FACPR     float64\n",
            "FACSHR    float64\n",
            "PRC       float64\n",
            "RET        object\n",
            "SHROUT    float64\n",
            "dtype: object\n"
          ]
        }
      ],
      "source": [
        "\n",
        "#%%############################################################################\n",
        "# Step 1: Preparing the CRSP file\n",
        "###############################################################################\n",
        "print(\"Prepare CRSP file\")\n",
        "t = time.time() # record the current time, so we can measure how long the code takes to run\n",
        "crsp = pd.read_csv(path_data+'CRSP_Monthly_2022.csv')\n",
        "# load data\n",
        "# Have a look at the data\n",
        "print(crsp.head())\n",
        "print(crsp.dtypes)"
      ]
    },
    {
      "cell_type": "code",
      "execution_count": null,
      "metadata": {
        "id": "tsbqiD7rUUIE"
      },
      "outputs": [],
      "source": [
        "\n",
        "\n",
        "\n",
        "### formatting ###\n",
        "# make all variable names lowercase\n",
        "crsp.columns = map(str.lower,crsp.columns)\n",
        "\n",
        "# You should see that one of the important variables 'RET' (return) is not a number but 'object'.\n",
        "# It is preferable to have this variable as a number, which Python denotes as float64 (float64 is just a special way of saying that a variable is a number)\n",
        "# If you are interested search for 'floating point number'on internet. But it is computer-science issue!\n",
        "\n",
        "# Changes the returns to number format. Non-numeric data will be NAN\n",
        "crsp['ret'] = pd.to_numeric(crsp['ret'],errors='coerce')\n",
        "\n",
        "# Change the dateformat\n",
        "crsp['date'] = pd.to_datetime(crsp['date'], format='%Y/%m/%d')\n",
        "\n",
        "# Create separate 'year' and 'month' variables (we will use them later to merge CRSP with Compustat)\n",
        "crsp['year'] = crsp['date'].apply(lambda date: date.year)\n",
        "crsp['month'] = crsp['date'].apply(lambda date: date.month)\n",
        "\n",
        "# Calculate market cap\n",
        "crsp['mktcap'] = crsp['shrout'] * crsp['prc'].abs()\n",
        "\n"
      ]
    },
    {
      "cell_type": "code",
      "execution_count": null,
      "metadata": {
        "id": "XkfdNyifbNTW",
        "colab": {
          "base_uri": "https://localhost:8080/"
        },
        "outputId": "0679d189-b23e-4a6f-d876-f84102a6843a"
      },
      "outputs": [
        {
          "output_type": "stream",
          "name": "stdout",
          "text": [
            "Completed in 28.4s\n"
          ]
        }
      ],
      "source": [
        "\n",
        "### Some basic data cleaning ###\n",
        "# keep only common shares\n",
        "crsp = crsp[crsp['shrcd'].isin([10,11])]\n",
        "\n",
        "# keep only stocks from NYSE, AMEX and NASDAQ\n",
        "crsp = crsp[crsp['exchcd'].isin([1,2,3])]\n",
        "\n",
        "# make sure that there are no duplicates\n",
        "# usually, we would investigate why there are duplicates and then decide which observation we want to keep\n",
        "#    For here, it is enough to simply drop the duplicates.\n",
        "crsp = crsp.drop_duplicates(subset=['date','permno'])\n",
        "\n",
        "\n",
        "print('Completed in %.1fs' % (time.time()-t)) # show how long it took to run this code block\n"
      ]
    },
    {
      "cell_type": "code",
      "execution_count": null,
      "metadata": {
        "id": "hcNO336uUUIF",
        "colab": {
          "base_uri": "https://localhost:8080/"
        },
        "outputId": "0fc5d495-c26b-402b-b97d-4bad2e2a299b"
      },
      "outputs": [
        {
          "output_type": "stream",
          "name": "stdout",
          "text": [
            "Prepare Compustat file\n",
            "   GVKEY LINKTYPE  LPERMNO  LPERMCO    datadate   fyear indfmt consol popsrc  \\\n",
            "0   1000       LU    25881    23369  1970-12-31  1970.0   INDL      C      D   \n",
            "1   1000       LU    25881    23369  1971-12-31  1971.0   INDL      C      D   \n",
            "2   1000       LU    25881    23369  1972-12-31  1972.0   INDL      C      D   \n",
            "3   1000       LU    25881    23369  1973-12-31  1973.0   INDL      C      D   \n",
            "4   1000       LU    25881    23369  1974-12-31  1974.0   INDL      C      D   \n",
            "\n",
            "  datafmt                   conm curcd      at   capx   csho  epspx costat  \\\n",
            "0     STD  A & E PLASTIK PAK INC   USD  33.450  2.767  2.446   0.56      I   \n",
            "1     STD  A & E PLASTIK PAK INC   USD  29.330  1.771  2.995   0.04      I   \n",
            "2     STD  A & E PLASTIK PAK INC   USD  19.907  1.254  2.902   0.50      I   \n",
            "3     STD  A & E PLASTIK PAK INC   USD  21.771  1.633  2.840   0.64      I   \n",
            "4     STD  A & E PLASTIK PAK INC   USD  25.638  1.313  2.150   0.60      I   \n",
            "\n",
            "   prcc_c  mkvalt   sic  \n",
            "0  10.000     NaN  3089  \n",
            "1   5.750     NaN  3089  \n",
            "2   5.125     NaN  3089  \n",
            "3   1.750     NaN  3089  \n",
            "4   2.125     NaN  3089  \n",
            "GVKEY         int64\n",
            "LINKTYPE     object\n",
            "LPERMNO       int64\n",
            "LPERMCO       int64\n",
            "datadate     object\n",
            "fyear       float64\n",
            "indfmt       object\n",
            "consol       object\n",
            "popsrc       object\n",
            "datafmt      object\n",
            "conm         object\n",
            "curcd        object\n",
            "at          float64\n",
            "capx        float64\n",
            "csho        float64\n",
            "epspx       float64\n",
            "costat       object\n",
            "prcc_c      float64\n",
            "mkvalt      float64\n",
            "sic           int64\n",
            "dtype: object\n",
            "(324689, 20)\n"
          ]
        }
      ],
      "source": [
        "#%%############################################################################\n",
        "# Step 2: Preparing the Compustat (CCM) file\n",
        "###############################################################################\n",
        "print(\"Prepare Compustat file\")\n",
        "t = time.time() # reset our timer\n",
        "\n",
        "ccm = pd.read_csv(path_data+'Compustat_Annual_2023_2.csv')\n",
        "\n",
        "# Have a look at the data\n",
        "print(ccm.head())\n",
        "print(ccm.dtypes)\n",
        "print(ccm.shape)\n",
        "\n"
      ]
    },
    {
      "cell_type": "code",
      "execution_count": null,
      "metadata": {
        "id": "1uxrgJSGbNTX"
      },
      "outputs": [],
      "source": [
        "\n",
        "\n",
        "### formatting ###\n",
        "# make all variable names lowercase\n",
        "ccm.columns = map(str.lower,ccm.columns)\n",
        "\n",
        "# Change the dateformat\n",
        "ccm['datadate'] = pd.to_datetime(ccm['datadate'], format='%Y-%m-%d')\n",
        "\n",
        "# Create separate 'year' and 'month' variables\n",
        "ccm['year'] = ccm['datadate'].apply(lambda x: x.year)\n",
        "ccm['month'] = ccm['datadate'].apply(lambda x: x.month)\n",
        "\n",
        "### Some basic data cleaning ###\n",
        "# make sure that there are no duplicates (same as above)\n",
        "ccm = ccm.drop_duplicates(subset=['datadate','gvkey'])\n",
        "ccm = ccm.drop_duplicates(subset=['year','gvkey'])\n",
        "ccm = ccm.drop_duplicates(subset=['year','lpermno'])\n",
        "\n",
        "\n"
      ]
    },
    {
      "cell_type": "code",
      "execution_count": null,
      "metadata": {
        "id": "nwCAdYb5bNTX",
        "colab": {
          "base_uri": "https://localhost:8080/"
        },
        "outputId": "78557bd8-3c74-4882-a3b6-e694469a8294"
      },
      "outputs": [
        {
          "output_type": "stream",
          "name": "stdout",
          "text": [
            "Fraction of observations missing:\n",
            "gvkey       0.000000\n",
            "linktype    0.000000\n",
            "lpermno     0.000000\n",
            "lpermco     0.000000\n",
            "datadate    0.000000\n",
            "fyear       0.000006\n",
            "indfmt      0.000000\n",
            "consol      0.000000\n",
            "popsrc      0.000000\n",
            "datafmt     0.000000\n",
            "conm        0.000000\n",
            "curcd       0.000006\n",
            "at          0.066660\n",
            "capx        0.133841\n",
            "csho        0.005717\n",
            "epspx       0.072717\n",
            "costat      0.000000\n",
            "prcc_c      0.013062\n",
            "mkvalt      0.613753\n",
            "sic         0.000000\n",
            "year        0.000000\n",
            "month       0.000000\n",
            "e/p         0.084120\n",
            "mktcap      0.017839\n",
            "dtype: float64\n",
            "Completed in 3.0s\n"
          ]
        }
      ],
      "source": [
        "### Calculate the variables we will use for sorting ###\n",
        "# Create earnings to price ratio variable\n",
        "\n",
        "ccm = ccm.sort_values(['gvkey','datadate']) # sort data by gvkey and date\n",
        "#\n",
        "ccm['e/p'] = ccm['epspx'] / ccm['prcc_c']\n",
        "# added market capitalization variable = closing price * number of shares\n",
        "ccm['mktcap'] = ccm['csho'] * ccm['prcc_c']\n",
        "# It is useful to know how many observations are missing\n",
        "print('Fraction of observations missing:')\n",
        "print(1 - ccm.count() / len(ccm))\n",
        "\n",
        "\n",
        "print('Completed in %.1fs' % (time.time()-t)) # show how long it took to run this code block\n",
        "\n"
      ]
    },
    {
      "cell_type": "code",
      "execution_count": null,
      "metadata": {
        "id": "85bfBpoyUUIF",
        "colab": {
          "base_uri": "https://localhost:8080/"
        },
        "outputId": "24f3c542-f039-4562-cf0e-d0daff8cd733"
      },
      "outputs": [
        {
          "output_type": "stream",
          "name": "stdout",
          "text": [
            "Create portfolios by sorting by earning to price and then size of the company\n"
          ]
        },
        {
          "output_type": "stream",
          "name": "stderr",
          "text": [
            "years: 100%|██████████| 60/60 [00:09<00:00,  6.62it/s]"
          ]
        },
        {
          "output_type": "stream",
          "name": "stdout",
          "text": [
            "Step 3 completed in 9.1s\n"
          ]
        },
        {
          "output_type": "stream",
          "name": "stderr",
          "text": [
            "\n"
          ]
        }
      ],
      "source": [
        "#%%############################################################################\n",
        "# Step 3: Sort stocks into portfolios and calculate returns\n",
        "###############################################################################\n",
        "print(\"Create portfolios by sorting by earning to price and then size of the company\")\n",
        "t = time.time() # reset our timer\n",
        "\n",
        "# loop over all years in the data\n",
        "# Note: the first loop loops over the years in range(1951,2023).\n",
        "#    You can wrap any list by the tqdm command to display a progress bar while looping over the list\n",
        "portfolios = [] # create an empty list to collect the portfolio returns\n",
        "for year in tqdm(range(1963,2023),desc=\"years\"):\n",
        "    # take the companies that were alive at t-1\n",
        "    permno_list=list(crsp[crsp['year']==year-1]['permno'].unique())\n",
        "\n",
        "    # get the sorting variable for these companies at t-1\n",
        "    sorting_data = ccm.loc[(ccm['year']==(year-1)) & \\\n",
        "                           (ccm['lpermno'].isin(permno_list)), \\\n",
        "                           ['gvkey','lpermno','e/p', 'mktcap']]\n",
        "\n",
        "    # sort into 5 baskets by cashflow over assets\n",
        "    nportfolios = 5 # number of portfolios\n",
        "    sorting_data['rank'] = pd.qcut(sorting_data['e/p'],nportfolios, labels=False)\n",
        "    # add market captilization layer, each e/p bin divide by market captilization\n",
        "    for n in range(nportfolios):\n",
        "      sorting_data.loc[sorting_data['rank'] == n, 'rank1'] = pd.qcut(sorting_data.loc[sorting_data['rank'] == n, 'mktcap'], nportfolios, labels = False)\n",
        "\n",
        "    # select the return data with some time lag to make sure that the accounting information is public (data from July at year t to June in year t+1)\n",
        "    crsp_window = crsp[((crsp['year']==year) & (crsp['month']>=6)) | \\\n",
        "                       ((crsp['year']==year+1) & (crsp['month']<=6))]\n",
        "\n",
        "    # create the portfolio returns for the current window and collect them in portfolios_window\n",
        "    portfolios_window = []\n",
        "    for p in range(nportfolios):\n",
        "       for n in range(nportfolios):\n",
        "          # get list of permnos that are in this portfolio\n",
        "          basket = sorting_data.loc[(sorting_data['rank'] == p) & (sorting_data['rank1'] == n),'lpermno'].tolist()\n",
        "\n",
        "          # get returns of these permnos\n",
        "          crsp_p_firms = crsp_window[crsp_window['permno'].isin(basket)]\n",
        "\n",
        "          # pivot returns\n",
        "          returns = crsp_p_firms.pivot(index='date', columns='permno', values='ret')\n",
        "          returns = returns.iloc[1:,:] # drop the first row\n",
        "\n",
        "          # create equally weighted portfolio (monthly rebalancing)\n",
        "          return_port = returns.mean(axis=1)\n",
        "          return_port.name = str(p) + '.' + str(n) # naming\n",
        "\n",
        "          # collect portfolio returns in dec_port\n",
        "          portfolios_window += [return_port]\n",
        "\n",
        "    # merge the portfolios\n",
        "    portfolios_window = pd.concat(portfolios_window,axis=1)\n",
        "\n",
        "    # collect results in portfolios\n",
        "    portfolios += [portfolios_window]\n",
        "\n",
        "# merge the returns from all windows\n",
        "portfolios = pd.concat(portfolios,axis=0)\n",
        "\n",
        "\n",
        "print('Step 3 completed in %.1fs' % (time.time()-t)) # show how long it took to run this code block\n",
        "\n"
      ]
    },
    {
      "cell_type": "code",
      "source": [
        "# Create long-short portfolios for each segment\n",
        "portfolios['0.5'] = portfolios['0.4'] - portfolios['0.0']\n",
        "portfolios['1.5'] = portfolios['1.4'] - portfolios['1.0']\n",
        "portfolios['2.5'] = portfolios['2.4'] - portfolios['2.0']\n",
        "portfolios['3.5'] = portfolios['3.4'] - portfolios['3.0']\n",
        "portfolios['4.5'] = portfolios['4.4'] - portfolios['4.0']\n"
      ],
      "metadata": {
        "id": "Xs-3eSBM4eQl"
      },
      "execution_count": null,
      "outputs": []
    },
    {
      "cell_type": "code",
      "execution_count": null,
      "metadata": {
        "id": "QpB-zkRMbNTY",
        "colab": {
          "base_uri": "https://localhost:8080/"
        },
        "outputId": "f67f976b-ef38-45b0-87ab-04ca4d0d213c"
      },
      "outputs": [
        {
          "output_type": "stream",
          "name": "stdout",
          "text": [
            "0.0    0.023065\n",
            "0.1    0.016125\n",
            "0.2    0.011588\n",
            "0.3    0.009642\n",
            "0.4    0.008044\n",
            "1.0    0.015510\n",
            "1.1    0.009770\n",
            "1.2    0.008069\n",
            "1.3    0.006713\n",
            "1.4    0.007430\n",
            "2.0    0.014302\n",
            "2.1    0.011376\n",
            "2.2    0.010332\n",
            "2.3    0.010244\n",
            "2.4    0.009401\n",
            "3.0    0.014978\n",
            "3.1    0.012398\n",
            "3.2    0.012863\n",
            "3.3    0.012298\n",
            "3.4    0.011737\n",
            "4.0    0.017992\n",
            "4.1    0.014276\n",
            "4.2    0.014270\n",
            "4.3    0.014315\n",
            "4.4    0.012486\n",
            "0.5   -0.015021\n",
            "1.5   -0.008079\n",
            "2.5   -0.004901\n",
            "3.5   -0.003241\n",
            "4.5   -0.005506\n",
            "dtype: float64\n"
          ]
        }
      ],
      "source": [
        "# monthly mean return\n",
        "print(portfolios.mean(axis=0))"
      ]
    },
    {
      "cell_type": "code",
      "execution_count": null,
      "metadata": {
        "id": "cq-BAVWL7Mhk",
        "colab": {
          "base_uri": "https://localhost:8080/"
        },
        "outputId": "a840d0f2-48e3-45ae-9a1e-3f104651bf7e"
      },
      "outputs": [
        {
          "output_type": "stream",
          "name": "stdout",
          "text": [
            "Create portfolios by first sorting by size then sorting by earning to price\n"
          ]
        },
        {
          "output_type": "stream",
          "name": "stderr",
          "text": [
            "years: 100%|██████████| 60/60 [00:10<00:00,  5.49it/s]"
          ]
        },
        {
          "output_type": "stream",
          "name": "stdout",
          "text": [
            "Step 3 completed in 10.9s\n"
          ]
        },
        {
          "output_type": "stream",
          "name": "stderr",
          "text": [
            "\n"
          ]
        }
      ],
      "source": [
        "#%%############################################################################\n",
        "# Step 3.1: Sort stocks into portfolios and calculate returns\n",
        "###############################################################################\n",
        "print(\"Create portfolios by first sorting by size then sorting by earning to price\")\n",
        "t = time.time() # reset our timer\n",
        "\n",
        "# loop over all years in the data\n",
        "portfolios_1 = [] # create an empty list to collect the portfolio returns\n",
        "for year in tqdm(range(1963,2023),desc=\"years\"):\n",
        "    # take the companies that were alive at t-1\n",
        "    permno_list=list(crsp[crsp['year']==year-1]['permno'].unique())\n",
        "\n",
        "    # get the sorting variable for these companies at t-1\n",
        "    sorting_data = ccm.loc[(ccm['year']==(year-1)) & \\\n",
        "                           (ccm['lpermno'].isin(permno_list)), \\\n",
        "                           ['gvkey','lpermno','e/p', 'mktcap']]\n",
        "\n",
        "    # sort into 5 baskets by cashflow over assets\n",
        "    nportfolios = 5 # number of portfolios\n",
        "    sorting_data['rank'] = pd.qcut(sorting_data['mktcap'],nportfolios, labels=False)\n",
        "\n",
        "    for n in range(nportfolios):\n",
        "      sorting_data.loc[sorting_data['rank'] == n, 'rank1'] = pd.qcut(sorting_data.loc[sorting_data['rank'] == n, 'e/p'], nportfolios, labels = False)\n",
        "\n",
        "    # select the return data with some time lag to make sure that the accounting information is public (data from July at year t to June in year t+1)\n",
        "    crsp_window = crsp[((crsp['year']==year) & (crsp['month']>=6)) | \\\n",
        "                       ((crsp['year']==year+1) & (crsp['month']<=6))]\n",
        "\n",
        "    # create the portfolio returns for the current window and collect them in portfolios_window\n",
        "    portfolios_window_1 = []\n",
        "    for p in range(nportfolios):\n",
        "       for n in range(nportfolios):\n",
        "          # get list of permnos that are in this portfolio\n",
        "          basket = sorting_data.loc[(sorting_data['rank'] == p) & (sorting_data['rank1'] == n),'lpermno'].tolist()\n",
        "\n",
        "          # get returns of these permnos\n",
        "          crsp_p_firms = crsp_window[crsp_window['permno'].isin(basket)]\n",
        "\n",
        "          # pivot returns\n",
        "          returns = crsp_p_firms.pivot(index='date', columns='permno', values='ret')\n",
        "          returns = returns.iloc[1:,:] # drop the first row\n",
        "\n",
        "          # create equally weighted portfolio (monthly rebalancing)\n",
        "          return_port = returns.mean(axis=1)\n",
        "          return_port.name = str(p) + '.' + str(n)\n",
        "\n",
        "          # collect portfolio returns in dec_port\n",
        "          portfolios_window_1 += [return_port]\n",
        "\n",
        "    # merge the portfolios\n",
        "    portfolios_window_1 = pd.concat(portfolios_window_1,axis=1)\n",
        "\n",
        "    # collect results in portfolios\n",
        "    portfolios_1 += [portfolios_window_1]\n",
        "\n",
        "# merge the returns from all windows\n",
        "portfolios_1 = pd.concat(portfolios_1,axis=0)\n",
        "\n",
        "\n",
        "print('Step 3 completed in %.1fs' % (time.time()-t)) # show how long it took to run this code block\n",
        "\n"
      ]
    },
    {
      "cell_type": "code",
      "source": [
        "# Create long-short portfolios for each segment\n",
        "portfolios_1['0.5'] = portfolios_1['0.4'] - portfolios_1['0.0']\n",
        "portfolios_1['1.5'] = portfolios_1['1.4'] - portfolios_1['1.0']\n",
        "portfolios_1['2.5'] = portfolios_1['2.4'] - portfolios_1['2.0']\n",
        "portfolios_1['3.5'] = portfolios_1['3.4'] - portfolios_1['3.0']\n",
        "portfolios_1['4.5'] = portfolios_1['4.4'] - portfolios_1['4.0']\n"
      ],
      "metadata": {
        "id": "SRihd_3z7Mhr"
      },
      "execution_count": null,
      "outputs": []
    },
    {
      "cell_type": "code",
      "execution_count": null,
      "metadata": {
        "id": "_c89m8RN7Mhr",
        "colab": {
          "base_uri": "https://localhost:8080/"
        },
        "outputId": "46f82661-ee3e-49ff-b923-df014a908bae"
      },
      "outputs": [
        {
          "output_type": "stream",
          "name": "stdout",
          "text": [
            "0.0    0.018773\n",
            "0.1    0.018620\n",
            "0.2    0.018065\n",
            "0.3    0.017375\n",
            "0.4    0.017989\n",
            "1.0    0.012187\n",
            "1.1    0.009361\n",
            "1.2    0.011034\n",
            "1.3    0.013060\n",
            "1.4    0.013905\n",
            "2.0    0.009459\n",
            "2.1    0.008246\n",
            "2.2    0.011206\n",
            "2.3    0.012277\n",
            "2.4    0.013803\n",
            "3.0    0.008122\n",
            "3.1    0.009110\n",
            "3.2    0.010986\n",
            "3.3    0.011829\n",
            "3.4    0.013254\n",
            "4.0    0.007883\n",
            "4.1    0.009173\n",
            "4.2    0.009690\n",
            "4.3    0.011078\n",
            "4.4    0.012048\n",
            "0.5   -0.000784\n",
            "1.5    0.001717\n",
            "2.5    0.004343\n",
            "3.5    0.005132\n",
            "4.5    0.004165\n",
            "dtype: float64\n"
          ]
        }
      ],
      "source": [
        "print(portfolios_1.mean(axis=0))"
      ]
    },
    {
      "cell_type": "code",
      "execution_count": null,
      "metadata": {
        "id": "D3CrxzdOUUIG"
      },
      "outputs": [],
      "source": [
        "#%%############################################################################\n",
        "# Step 4: Performance Evaluation\n",
        "# Step 4a: Merge Portfolio returns with Fama French data\n",
        "###############################################################################\n",
        "\n",
        "### load and prepare fama french data ###\n",
        "# load Fama French monthly factors\n",
        "ff = pd.read_csv(path_data+'F-F_Research_Data_Factors.CSV')\n",
        "\n",
        "# rename columns\n",
        "ff.rename({'Mkt-RF':'ExMkt',\n",
        "           'DATE':'date'},axis=1,inplace=True)\n",
        "\n",
        "# date variables\n",
        "ff['year'] = ff['date'] // 100\n",
        "ff['month'] = ff['date'] % 100\n",
        "ff.set_index('date',inplace=True)\n",
        "\n",
        "\n",
        "### formatting ###\n",
        "# FF data is in percent. Convert to simple returns\n",
        "ff[['ExMkt', 'SMB', 'HML', 'RF']] /= 100\n"
      ]
    },
    {
      "cell_type": "code",
      "source": [
        "print(range(nportfolios))"
      ],
      "metadata": {
        "id": "4Hg1H5sJ_7jw",
        "colab": {
          "base_uri": "https://localhost:8080/"
        },
        "outputId": "3351e8db-21a7-4073-ed40-b5a647b8cbcb"
      },
      "execution_count": null,
      "outputs": [
        {
          "output_type": "stream",
          "name": "stdout",
          "text": [
            "range(0, 5)\n"
          ]
        }
      ]
    },
    {
      "cell_type": "code",
      "source": [
        "pd.set_option('display.max_rows', None)"
      ],
      "metadata": {
        "id": "bfG-N9YdMUbZ"
      },
      "execution_count": null,
      "outputs": []
    },
    {
      "cell_type": "code",
      "execution_count": null,
      "metadata": {
        "id": "n1x7IFR4bNTY"
      },
      "outputs": [],
      "source": [
        "\n",
        "### merge portfolio returns with Fama French data ###\n",
        "# date variables\n",
        "portfolios_ff = portfolios.copy() # create a copy of the portfolios dataframe so we can use it again later\n",
        "portfolios_ff['year'] = portfolios_ff.index.year\n",
        "portfolios_ff['month'] = portfolios_ff.index.month\n",
        "\n",
        "# merge\n",
        "portfolios_ff = pd.merge(portfolios_ff,ff,on=['year','month'])\n",
        "# calculate excess returns\n",
        "for p in range(nportfolios):\n",
        "  for n in range(nportfolios):\n",
        "    portfolios_ff['excess'+str(p)+'.'+str(n)] = portfolios_ff[str(p)+'.'+str(n)] - portfolios_ff['RF']"
      ]
    },
    {
      "cell_type": "code",
      "source": [
        "### merge portfolio returns with Fama French data ###\n",
        "# date variables\n",
        "portfolios_ff_1 = portfolios_1.copy() # create a copy of the portfolios dataframe so we can use it again later\n",
        "portfolios_ff_1['year'] = portfolios_ff_1.index.year\n",
        "portfolios_ff_1['month'] = portfolios_ff_1.index.month\n",
        "\n",
        "# merge\n",
        "portfolios_ff_1 = pd.merge(portfolios_ff_1,ff,on=['year','month'])\n",
        "# calculate excess returns\n",
        "for p in range(nportfolios):\n",
        "  for n in range(nportfolios):\n",
        "    portfolios_ff_1['excess'+str(p)+'.'+str(n)] = portfolios_ff_1[str(p)+'.'+str(n)] - portfolios_ff['RF']"
      ],
      "metadata": {
        "id": "mddN0Tg3CV-4"
      },
      "execution_count": null,
      "outputs": []
    },
    {
      "cell_type": "code",
      "source": [
        "print(portfolios_ff.mean(axis=0))\n"
      ],
      "metadata": {
        "id": "gdHe4iH6EhI1",
        "colab": {
          "base_uri": "https://localhost:8080/"
        },
        "outputId": "8dc8befc-ab69-43e5-8ad0-af9503b1e5d7"
      },
      "execution_count": null,
      "outputs": [
        {
          "output_type": "stream",
          "name": "stdout",
          "text": [
            "0.0             0.023065\n",
            "0.1             0.016125\n",
            "0.2             0.011588\n",
            "0.3             0.009642\n",
            "0.4             0.008044\n",
            "1.0             0.015510\n",
            "1.1             0.009770\n",
            "1.2             0.008069\n",
            "1.3             0.006713\n",
            "1.4             0.007430\n",
            "2.0             0.014302\n",
            "2.1             0.011376\n",
            "2.2             0.010332\n",
            "2.3             0.010244\n",
            "2.4             0.009401\n",
            "3.0             0.014978\n",
            "3.1             0.012398\n",
            "3.2             0.012863\n",
            "3.3             0.012298\n",
            "3.4             0.011737\n",
            "4.0             0.017992\n",
            "4.1             0.014276\n",
            "4.2             0.014270\n",
            "4.3             0.014315\n",
            "4.4             0.012486\n",
            "0.5            -0.015021\n",
            "1.5            -0.008079\n",
            "2.5            -0.004901\n",
            "3.5            -0.003241\n",
            "4.5            -0.005506\n",
            "year         1992.747899\n",
            "month           6.525210\n",
            "ExMkt           0.005495\n",
            "SMB             0.001853\n",
            "HML             0.003115\n",
            "RF              0.003621\n",
            "excess0.0       0.019445\n",
            "excess0.1       0.012504\n",
            "excess0.2       0.007967\n",
            "excess0.3       0.006021\n",
            "excess0.4       0.004423\n",
            "excess1.0       0.011889\n",
            "excess1.1       0.006149\n",
            "excess1.2       0.004449\n",
            "excess1.3       0.003092\n",
            "excess1.4       0.003810\n",
            "excess2.0       0.010682\n",
            "excess2.1       0.007756\n",
            "excess2.2       0.006711\n",
            "excess2.3       0.006624\n",
            "excess2.4       0.005781\n",
            "excess3.0       0.011357\n",
            "excess3.1       0.008777\n",
            "excess3.2       0.009243\n",
            "excess3.3       0.008677\n",
            "excess3.4       0.008116\n",
            "excess4.0       0.014371\n",
            "excess4.1       0.010655\n",
            "excess4.2       0.010649\n",
            "excess4.3       0.010695\n",
            "excess4.4       0.008866\n",
            "dtype: float64\n"
          ]
        }
      ]
    },
    {
      "cell_type": "code",
      "source": [
        "print(portfolios_ff_1.mean(axis=0))"
      ],
      "metadata": {
        "id": "iPg12bz-D-jD",
        "colab": {
          "base_uri": "https://localhost:8080/"
        },
        "outputId": "08750d35-f05f-425d-8549-e58866e12615"
      },
      "execution_count": null,
      "outputs": [
        {
          "output_type": "stream",
          "name": "stdout",
          "text": [
            "0.0             0.018773\n",
            "0.1             0.018620\n",
            "0.2             0.018065\n",
            "0.3             0.017375\n",
            "0.4             0.017989\n",
            "1.0             0.012187\n",
            "1.1             0.009361\n",
            "1.2             0.011034\n",
            "1.3             0.013060\n",
            "1.4             0.013905\n",
            "2.0             0.009459\n",
            "2.1             0.008246\n",
            "2.2             0.011206\n",
            "2.3             0.012277\n",
            "2.4             0.013803\n",
            "3.0             0.008122\n",
            "3.1             0.009110\n",
            "3.2             0.010986\n",
            "3.3             0.011829\n",
            "3.4             0.013254\n",
            "4.0             0.007883\n",
            "4.1             0.009173\n",
            "4.2             0.009690\n",
            "4.3             0.011078\n",
            "4.4             0.012048\n",
            "0.5            -0.000784\n",
            "1.5             0.001717\n",
            "2.5             0.004343\n",
            "3.5             0.005132\n",
            "4.5             0.004165\n",
            "year         1992.747899\n",
            "month           6.525210\n",
            "ExMkt           0.005495\n",
            "SMB             0.001853\n",
            "HML             0.003115\n",
            "RF              0.003621\n",
            "excess0.0       0.015152\n",
            "excess0.1       0.014999\n",
            "excess0.2       0.014444\n",
            "excess0.3       0.013754\n",
            "excess0.4       0.014368\n",
            "excess1.0       0.008567\n",
            "excess1.1       0.005741\n",
            "excess1.2       0.007413\n",
            "excess1.3       0.009440\n",
            "excess1.4       0.010284\n",
            "excess2.0       0.005839\n",
            "excess2.1       0.004625\n",
            "excess2.2       0.007586\n",
            "excess2.3       0.008656\n",
            "excess2.4       0.010182\n",
            "excess3.0       0.004501\n",
            "excess3.1       0.005490\n",
            "excess3.2       0.007366\n",
            "excess3.3       0.008208\n",
            "excess3.4       0.009633\n",
            "excess4.0       0.004263\n",
            "excess4.1       0.005553\n",
            "excess4.2       0.006069\n",
            "excess4.3       0.007458\n",
            "excess4.4       0.008427\n",
            "dtype: float64\n"
          ]
        }
      ]
    },
    {
      "cell_type": "code",
      "execution_count": null,
      "metadata": {
        "id": "hUrMfyhebNTZ",
        "colab": {
          "base_uri": "https://localhost:8080/"
        },
        "outputId": "6f6fed8f-79ea-4690-96c3-d198b9c7ff32"
      },
      "outputs": [
        {
          "output_type": "stream",
          "name": "stdout",
          "text": [
            "Average returns (annualized percent) by sorting by E/P and then Size\n",
            " excess0.0    25.997879\n",
            "excess0.1    16.080895\n",
            "excess0.2     9.990872\n",
            "excess0.3     7.469282\n",
            "excess0.4     5.438999\n",
            "excess1.0    15.237701\n",
            "excess1.1     7.633919\n",
            "excess1.2     5.471159\n",
            "excess1.3     3.774234\n",
            "excess1.4     4.668449\n",
            "excess2.0    13.598545\n",
            "excess2.1     9.714538\n",
            "excess2.2     8.357303\n",
            "excess2.3     8.244640\n",
            "excess2.4     7.161770\n",
            "excess3.0    14.512784\n",
            "excess3.1    11.056495\n",
            "excess3.2    11.672690\n",
            "excess3.3    10.924447\n",
            "excess3.4    10.186206\n",
            "excess4.0    18.676375\n",
            "excess4.1    13.562693\n",
            "excess4.2    13.554450\n",
            "excess4.3    13.616243\n",
            "excess4.4    11.173227\n",
            "dtype: float64\n",
            "Average returns of long-short portfolios within each E/P bin(annualized percent)\n",
            " 0.5   -16.608395\n",
            "1.5    -9.275941\n",
            "2.5    -5.725151\n",
            "3.5    -3.820397\n",
            "4.5    -6.410489\n",
            "dtype: float64\n"
          ]
        }
      ],
      "source": [
        "print(\"Average returns (annualized percent) by sorting by E/P and then Size\\n\",((1+portfolios_ff.iloc[:,-25:].mean(axis=0))**12-1)*100)\n",
        "print(\"Average returns of long-short portfolios within each E/P bin(annualized percent)\\n\",((1+portfolios_ff.iloc[:,25:30].mean(axis=0))**12-1)*100)\n"
      ]
    },
    {
      "cell_type": "code",
      "source": [
        "print(\"Average returns (annualized percent) by sorting by size and then E/P\\n\",((1+portfolios_ff_1.iloc[:,-25:].mean(axis=0))**12-1)*100)\n",
        "print(\"Average returns of long-short portfolios within each size bin(annualized percent)\\n\",((1+portfolios_ff_1.iloc[:,25:30].mean(axis=0))**12-1)*100)\n",
        "# small cap and large E/P"
      ],
      "metadata": {
        "id": "9Q_XoA02G_Er",
        "colab": {
          "base_uri": "https://localhost:8080/"
        },
        "outputId": "85baa37f-fe9c-49ed-a203-a1a361de300a"
      },
      "execution_count": null,
      "outputs": [
        {
          "output_type": "stream",
          "name": "stdout",
          "text": [
            "Average returns (annualized percent) by sorting by size and then E/P\n",
            " excess0.0    19.777135\n",
            "excess0.1    19.560553\n",
            "excess0.2    18.778261\n",
            "excess0.3    17.812405\n",
            "excess0.4    18.671926\n",
            "excess1.0    10.778628\n",
            "excess1.1     7.110313\n",
            "excess1.2     9.267418\n",
            "excess1.3    11.934709\n",
            "excess1.4    13.063577\n",
            "excess2.0     7.235953\n",
            "excess2.1     5.693290\n",
            "excess2.2     9.492501\n",
            "excess2.3    10.896813\n",
            "excess2.4    12.926655\n",
            "excess3.0     5.537286\n",
            "excess3.1     6.790327\n",
            "excess3.2     9.206001\n",
            "excess3.3    10.306784\n",
            "excess3.4    12.192549\n",
            "excess4.0     5.236743\n",
            "excess4.1     6.870484\n",
            "excess4.2     7.530789\n",
            "excess4.3     9.325672\n",
            "excess4.4    10.594973\n",
            "dtype: float64\n",
            "Average returns of long-short portfolios within each size bin(annualized percent)\n",
            " 0.5   -0.936643\n",
            "1.5    2.080463\n",
            "2.5    5.338440\n",
            "3.5    6.335269\n",
            "4.5    5.113800\n",
            "dtype: float64\n"
          ]
        }
      ]
    },
    {
      "cell_type": "code",
      "execution_count": null,
      "metadata": {
        "id": "HAz-ZEEybNTZ"
      },
      "outputs": [],
      "source": [
        "excess = pd.concat([portfolios_ff.iloc[:,-25:], portfolios_ff.iloc[:,25:30]], axis = 1)"
      ]
    },
    {
      "cell_type": "code",
      "source": [
        "excess1 = pd.concat([portfolios_ff_1.iloc[:,-25:], portfolios_ff_1.iloc[:,25:30]], axis = 1)"
      ],
      "metadata": {
        "id": "Hx02uXllIich"
      },
      "execution_count": null,
      "outputs": []
    },
    {
      "cell_type": "code",
      "source": [
        "returns = excess.aggregate(['mean','std','skew','kurt']).T"
      ],
      "metadata": {
        "id": "FeznBN_z8Cdz"
      },
      "execution_count": null,
      "outputs": []
    },
    {
      "cell_type": "code",
      "source": [
        "returns[\"mean_annualized\"] = ((1+returns[\"mean\"])**12-1)\n",
        "returns[\"std_annualized\"] = returns[\"std\"]*np.sqrt(12)\n",
        "returns[\"skewness_annualized\"] = returns[\"skew\"]*(1/np.sqrt(12))\n",
        "returns[\"kurtosis_annualized\"] = returns[\"kurt\"]*(1/12)\n",
        "returns = returns.T\n"
      ],
      "metadata": {
        "id": "BCLjfpb1-7gk"
      },
      "execution_count": null,
      "outputs": []
    },
    {
      "cell_type": "code",
      "source": [
        "returns1 = excess1.aggregate(['mean','std','skew','kurt']).T\n",
        "returns1[\"mean_annualized\"] = ((1+returns1[\"mean\"])**12-1)\n",
        "returns1[\"std_annualized\"] = returns1[\"std\"]*np.sqrt(12)\n",
        "returns1[\"skewness_annualized\"] = returns1[\"skew\"]*(1/np.sqrt(12))\n",
        "returns1[\"kurtosis_annualized\"] = returns1[\"kurt\"]*(1/12)\n",
        "returns1 = returns1.T"
      ],
      "metadata": {
        "id": "a1YYmgOeI4Pk"
      },
      "execution_count": null,
      "outputs": []
    },
    {
      "cell_type": "code",
      "source": [
        "from scipy.stats import ttest_1samp\n",
        "t, p = ttest_1samp(excess, 0)\n",
        "tvalue = pd.DataFrame([t, p]).transpose().rename(columns={0:\"t-stat\",1:\"p-value\"},\\\n",
        "                                                 index={0:\"excess0.0\",1:\"excess0.1\",2:\"excess0.2\",3:\"excess0.3\",4:\"excess0.4\",\\\n",
        "                                                        5:\"excess1.0\",6:\"excess1.1\",7:\"excess1.2\",8:\"excess1.3\",9:\"excess1.4\",\\\n",
        "                                                        10:\"excess2.0\",11:\"excess2.1\",12:\"excess2.2\",13:\"excess2.3\",14:\"excess2.4\",\\\n",
        "                                                        15:\"excess3.0\",16:\"excess3.1\",17:\"excess3.2\",18:\"excess3.3\",19:\"excess3.4\",\\\n",
        "                                                        20:\"excess4.0\",21:\"excess4.1\",22:\"excess4.2\",23:\"excess4.3\",24:\"excess4.4\",\\\n",
        "                                                        25:\"0.5\",26:\"1.5\",27:\"2.5\",28:\"3.5\",29:\"4.5\"}).T\n",
        "result = pd.concat([returns, tvalue], axis = 0)\n",
        "print(result)"
      ],
      "metadata": {
        "id": "cJPQi1zI-ULa",
        "colab": {
          "base_uri": "https://localhost:8080/"
        },
        "outputId": "73c41f5e-aab6-4081-93ea-da7d574e6a6c"
      },
      "execution_count": null,
      "outputs": [
        {
          "output_type": "stream",
          "name": "stdout",
          "text": [
            "                        excess0.0  excess0.1  excess0.2  excess0.3  excess0.4  \\\n",
            "mean                 1.944454e-02   0.012504   0.007967   0.006021   0.004423   \n",
            "std                  9.526282e-02   0.094111   0.092507   0.091098   0.087964   \n",
            "skew                 9.039765e-01   1.075861   0.764640   0.489386   0.540239   \n",
            "kurt                 3.173587e+00   4.621454   3.856926   3.032032   3.829977   \n",
            "mean_annualized      2.599788e-01   0.160809   0.099909   0.074693   0.054390   \n",
            "std_annualized       3.300001e-01   0.326010   0.320455   0.315571   0.304716   \n",
            "skewness_annualized  2.609555e-01   0.310574   0.220733   0.141273   0.155954   \n",
            "kurtosis_annualized  2.644656e-01   0.385121   0.321411   0.252669   0.319165   \n",
            "t-stat               5.454102e+00   3.550228   2.301322   1.766070   1.343662   \n",
            "p-value              6.792359e-08   0.000410   0.021661   0.077812   0.179485   \n",
            "\n",
            "                     excess1.0  excess1.1  excess1.2  excess1.3  excess1.4  \\\n",
            "mean                  0.011889   0.006149   0.004449   0.003092   0.003810   \n",
            "std                   0.069428   0.072074   0.074898   0.074022   0.067294   \n",
            "skew                  0.335905   0.111994   0.079114   0.044374  -0.189168   \n",
            "kurt                  2.916150   2.900876   2.722003   3.216036   3.219577   \n",
            "mean_annualized       0.152377   0.076339   0.054712   0.037742   0.046684   \n",
            "std_annualized        0.240507   0.249672   0.259456   0.256419   0.233115   \n",
            "skewness_annualized   0.096967   0.032330   0.022838   0.012810  -0.054608   \n",
            "kurtosis_annualized   0.243013   0.241740   0.226834   0.268003   0.268298   \n",
            "t-stat                4.575698   2.279792   1.587161   1.116190   1.512662   \n",
            "p-value               0.000006   0.022915   0.112920   0.264717   0.130809   \n",
            "\n",
            "                     ...     excess4.0  excess4.1  excess4.2  excess4.3  \\\n",
            "mean                 ...  1.437146e-02   0.010655   0.010649   0.010695   \n",
            "std                  ...  5.818976e-02   0.058984   0.060223   0.058451   \n",
            "skew                 ...  7.787666e-02  -0.184619  -0.202241  -0.096017   \n",
            "kurt                 ...  3.862990e+00   3.630457   5.063277   4.381230   \n",
            "mean_annualized      ...  1.867638e-01   0.135627   0.135544   0.136162   \n",
            "std_annualized       ...  2.015752e-01   0.204327   0.208618   0.202479   \n",
            "skewness_annualized  ...  2.248106e-02  -0.053295  -0.058382  -0.027718   \n",
            "kurtosis_annualized  ...  3.219158e-01   0.302538   0.421940   0.365103   \n",
            "t-stat               ...  6.599386e+00   4.826932   4.724934   4.889133   \n",
            "p-value              ...  8.056369e-11   0.000002   0.000003   0.000001   \n",
            "\n",
            "                     excess4.4           0.5       1.5       2.5       3.5  \\\n",
            "mean                  0.008866 -1.502125e-02 -0.008079 -0.004901 -0.003241   \n",
            "std                   0.053156  6.815691e-02  0.054525  0.044160  0.038466   \n",
            "skew                 -0.284703 -2.892347e-01 -0.507827 -0.819931 -0.630414   \n",
            "kurt                  3.692555  1.471856e+00  2.322370  3.385344  2.657817   \n",
            "mean_annualized       0.111732 -1.660839e-01 -0.092759 -0.057252 -0.038204   \n",
            "std_annualized        0.184138  2.361024e-01  0.188879  0.152975  0.133252   \n",
            "skewness_annualized  -0.082187 -8.349488e-02 -0.146597 -0.236694 -0.181985   \n",
            "kurtosis_annualized   0.307713  1.226546e-01  0.193531  0.282112  0.221485   \n",
            "t-stat                4.456650 -5.889051e+00 -3.959495 -2.965491 -2.251236   \n",
            "p-value               0.000010  5.982933e-09  0.000083  0.003123  0.024674   \n",
            "\n",
            "                          4.5  \n",
            "mean                -0.005506  \n",
            "std                  0.040906  \n",
            "skew                -0.638919  \n",
            "kurt                 2.885234  \n",
            "mean_annualized     -0.064105  \n",
            "std_annualized       0.141704  \n",
            "skewness_annualized -0.184440  \n",
            "kurtosis_annualized  0.240436  \n",
            "t-stat              -3.596464  \n",
            "p-value              0.000345  \n",
            "\n",
            "[10 rows x 30 columns]\n"
          ]
        }
      ]
    },
    {
      "cell_type": "code",
      "source": [
        "t1, p1 = ttest_1samp(excess, 0)\n",
        "tvalue1 = pd.DataFrame([t1, p1]).transpose().rename(columns={0:\"t-stat\",1:\"p-value\"},\\\n",
        "                                                 index={0:\"excess0.0\",1:\"excess0.1\",2:\"excess0.2\",3:\"excess0.3\",4:\"excess0.4\",\\\n",
        "                                                        5:\"excess1.0\",6:\"excess1.1\",7:\"excess1.2\",8:\"excess1.3\",9:\"excess1.4\",\\\n",
        "                                                        10:\"excess2.0\",11:\"excess2.1\",12:\"excess2.2\",13:\"excess2.3\",14:\"excess2.4\",\\\n",
        "                                                        15:\"excess3.0\",16:\"excess3.1\",17:\"excess3.2\",18:\"excess3.3\",19:\"excess3.4\",\\\n",
        "                                                        20:\"excess4.0\",21:\"excess4.1\",22:\"excess4.2\",23:\"excess4.3\",24:\"excess4.4\",\\\n",
        "                                                        25:\"0.5\",26:\"1.5\",27:\"2.5\",28:\"3.5\",29:\"4.5\"}).T\n",
        "result1 = pd.concat([returns1, tvalue1], axis = 0)\n",
        "print(result1)"
      ],
      "metadata": {
        "id": "GvVqUaXYJ75L",
        "colab": {
          "base_uri": "https://localhost:8080/"
        },
        "outputId": "0e9b8e4a-7bda-431a-e0c5-e4dab42b71ac"
      },
      "execution_count": null,
      "outputs": [
        {
          "output_type": "stream",
          "name": "stdout",
          "text": [
            "                        excess0.0  excess0.1  excess0.2  excess0.3  excess0.4  \\\n",
            "mean                 1.515220e-02   0.014999   0.014444   0.013754   0.014368   \n",
            "std                  1.056034e-01   0.091603   0.073873   0.061611   0.058170   \n",
            "skew                 1.128168e+00   0.969829   0.511375   0.306082   0.134350   \n",
            "kurt                 4.305342e+00   4.453844   2.529401   3.350877   3.758752   \n",
            "mean_annualized      1.977714e-01   0.195606   0.187783   0.178124   0.186719   \n",
            "std_annualized       3.658211e-01   0.317323   0.255903   0.213426   0.201506   \n",
            "skewness_annualized  3.256742e-01   0.279966   0.147621   0.088358   0.038783   \n",
            "kurtosis_annualized  3.587785e-01   0.371154   0.210783   0.279240   0.313229   \n",
            "t-stat               5.454102e+00   3.550228   2.301322   1.766070   1.343662   \n",
            "p-value              6.792359e-08   0.000410   0.021661   0.077812   0.179485   \n",
            "\n",
            "                     excess1.0  excess1.1  excess1.2  excess1.3  excess1.4  \\\n",
            "mean                  0.008567   0.005741   0.007413   0.009440   0.010284   \n",
            "std                   0.095379   0.078068   0.062408   0.053798   0.056721   \n",
            "skew                  0.704363   0.167329  -0.112906  -0.221392  -0.152871   \n",
            "kurt                  3.500603   2.360194   2.697310   3.999063   4.226689   \n",
            "mean_annualized       0.107786   0.071103   0.092674   0.119347   0.130636   \n",
            "std_annualized        0.330404   0.270434   0.216186   0.186361   0.196488   \n",
            "skewness_annualized   0.203332   0.048304  -0.032593  -0.063910  -0.044130   \n",
            "kurtosis_annualized   0.291717   0.196683   0.224776   0.333255   0.352224   \n",
            "t-stat                4.575698   2.279792   1.587161   1.116190   1.512662   \n",
            "p-value               0.000006   0.022915   0.112920   0.264717   0.130809   \n",
            "\n",
            "                     ...     excess4.0  excess4.1  excess4.2  excess4.3  \\\n",
            "mean                 ...  4.262586e-03   0.005553   0.006069   0.007458   \n",
            "std                  ...  6.998201e-02   0.054175   0.047510   0.045399   \n",
            "skew                 ... -5.033736e-02  -0.361674  -0.422485  -0.249163   \n",
            "kurt                 ...  3.964006e+00   2.285345   2.728396   3.102223   \n",
            "mean_annualized      ...  5.236743e-02   0.068705   0.075308   0.093257   \n",
            "std_annualized       ...  2.424248e-01   0.187667   0.164578   0.157267   \n",
            "skewness_annualized  ... -1.453114e-02  -0.104406  -0.121961  -0.071927   \n",
            "kurtosis_annualized  ...  3.303338e-01   0.190445   0.227366   0.258519   \n",
            "t-stat               ...  6.599386e+00   4.826932   4.724934   4.889133   \n",
            "p-value              ...  8.056369e-11   0.000002   0.000003   0.000001   \n",
            "\n",
            "                     excess4.4           0.5       1.5       2.5       3.5  \\\n",
            "mean                  0.008427 -7.839068e-04  0.001717  0.004343  0.005132   \n",
            "std                   0.051525  6.666501e-02  0.060045  0.053396  0.048893   \n",
            "skew                 -0.345188 -1.679161e+00 -1.545524 -1.457024 -0.955771   \n",
            "kurt                  3.449394  7.356450e+00  8.240189  7.776320  9.779545   \n",
            "mean_annualized       0.105950 -9.366430e-03  0.020805  0.053384  0.063353   \n",
            "std_annualized        0.178487  2.309344e-01  0.208003  0.184969  0.169371   \n",
            "skewness_annualized  -0.099647 -4.847320e-01 -0.446154 -0.420607 -0.275907   \n",
            "kurtosis_annualized   0.287449  6.130375e-01  0.686682  0.648027  0.814962   \n",
            "t-stat                4.456650 -5.889051e+00 -3.959495 -2.965491 -2.251236   \n",
            "p-value               0.000010  5.982933e-09  0.000083  0.003123  0.024674   \n",
            "\n",
            "                           4.5  \n",
            "mean                  0.004165  \n",
            "std                   0.045823  \n",
            "skew                 -0.337910  \n",
            "kurt                 14.368538  \n",
            "mean_annualized       0.051138  \n",
            "std_annualized        0.158736  \n",
            "skewness_annualized  -0.097546  \n",
            "kurtosis_annualized   1.197378  \n",
            "t-stat               -3.596464  \n",
            "p-value               0.000345  \n",
            "\n",
            "[10 rows x 30 columns]\n"
          ]
        }
      ]
    },
    {
      "cell_type": "code",
      "execution_count": null,
      "metadata": {
        "scrolled": true,
        "id": "Wo-ijou0bNTZ",
        "colab": {
          "base_uri": "https://localhost:8080/"
        },
        "outputId": "5a9dc67a-a426-4baa-d2b2-f769041ecf0c"
      },
      "outputs": [
        {
          "output_type": "stream",
          "name": "stdout",
          "text": [
            "Average returns (annualized percent)\n",
            " 0.0    31.473845\n",
            "0.1    21.161127\n",
            "0.2    14.826673\n",
            "0.3    12.203542\n",
            "0.4    10.091356\n",
            "1.0    20.284156\n",
            "1.1    12.374815\n",
            "1.2    10.124815\n",
            "1.3     8.359333\n",
            "1.4     9.289686\n",
            "2.0    18.579279\n",
            "2.1    14.539221\n",
            "2.2    13.127346\n",
            "2.3    13.010144\n",
            "2.4    11.883633\n",
            "3.0    19.530184\n",
            "3.1    15.935147\n",
            "3.2    16.576105\n",
            "3.3    15.797791\n",
            "3.4    15.029864\n",
            "4.0    23.860447\n",
            "4.1    18.541989\n",
            "4.2    18.533415\n",
            "4.3    18.597687\n",
            "4.4    16.056571\n",
            "0.5   -16.608395\n",
            "1.5    -9.275941\n",
            "2.5    -5.725151\n",
            "3.5    -3.820397\n",
            "4.5    -6.410489\n",
            "dtype: float64\n"
          ]
        }
      ],
      "source": [
        "#%%############################################################################\n",
        "# Step 4b: Regressions\n",
        "###############################################################################\n",
        "\n",
        "# show average returns (annualized and in percent)\n",
        "print(\"Average returns (annualized percent)\\n\",((1+portfolios.mean(axis=0))**12-1)*100)\n"
      ]
    },
    {
      "cell_type": "code",
      "source": [
        "portfolios_ff['excess0.5'] = portfolios_ff['0.5']\n",
        "portfolios_ff['excess1.5'] = portfolios_ff['1.5']\n",
        "portfolios_ff['excess2.5'] = portfolios_ff['2.5']\n",
        "portfolios_ff['excess3.5'] = portfolios_ff['3.5']\n",
        "portfolios_ff['excess4.5'] = portfolios_ff['4.5']\n",
        "\n",
        "portfolios_ff_1['excess0.5'] = portfolios_ff_1['0.5']\n",
        "portfolios_ff_1['excess1.5'] = portfolios_ff_1['1.5']\n",
        "portfolios_ff_1['excess2.5'] = portfolios_ff_1['2.5']\n",
        "portfolios_ff_1['excess3.5'] = portfolios_ff_1['3.5']\n",
        "portfolios_ff_1['excess4.5'] = portfolios_ff_1['4.5']"
      ],
      "metadata": {
        "id": "pUaW_wy0A1oJ"
      },
      "execution_count": null,
      "outputs": []
    },
    {
      "cell_type": "code",
      "execution_count": null,
      "metadata": {
        "id": "TsVq_TL-UUIH",
        "colab": {
          "base_uri": "https://localhost:8080/"
        },
        "outputId": "f0bbd6e0-7e2f-4a35-c068-6cff75808a07"
      },
      "outputs": [
        {
          "output_type": "stream",
          "name": "stdout",
          "text": [
            "CAPM\n",
            "              alpha  beta_mkt   alpha_t      rmse        R2\n",
            "quintile                                                  \n",
            "0.0       0.013203  1.135836  4.352541  0.080458  0.287669\n",
            "0.1       0.005712  1.236010  1.993963  0.075984  0.349038\n",
            "0.2       0.000487  1.361367  0.186053  0.069384  0.438236\n",
            "0.3      -0.001917  1.444621 -0.795851  0.063887  0.508866\n",
            "0.4      -0.004022  1.536890 -1.959875  0.054426  0.617713\n",
            "0.5      -0.017225  0.401054 -6.946176  0.065772  0.070064\n",
            "1.0       0.006301  1.016987  3.197751  0.052262  0.434175\n",
            "1.1      -0.000597  1.227835 -0.341974  0.046336  0.587260\n",
            "1.2      -0.003024  1.359971 -1.854840  0.043242  0.667151\n",
            "1.3      -0.004441  1.370963 -2.875349  0.040967  0.694132\n",
            "1.4      -0.003442  1.319725 -2.878970  0.031711  0.778249\n",
            "1.5      -0.009743  0.302738 -4.891132  0.052834  0.062382\n",
            "2.0       0.005275  0.983897  3.306445  0.042317  0.522768\n",
            "2.1       0.001202  1.192726  0.932410  0.034195  0.711433\n",
            "2.2       0.000169  1.190667  0.155189  0.028812  0.775815\n",
            "2.3       0.000406  1.131668  0.475089  0.022639  0.835082\n",
            "2.4       0.000057  1.041722  0.102883  0.014613  0.911482\n",
            "2.5      -0.005219  0.057825 -3.137671  0.044114  0.003470\n",
            "3.0       0.006371  0.907489  4.391652  0.038475  0.529925\n",
            "3.1       0.003163  1.021759  2.527075  0.033198  0.657482\n",
            "3.2       0.003441  1.055811  3.294852  0.027701  0.746436\n",
            "3.3       0.003109  1.013357  3.616057  0.022805  0.800043\n",
            "3.4       0.002992  0.932484  4.433172  0.017903  0.846086\n",
            "3.5      -0.003378  0.024994 -2.328663  0.038477  0.000854\n",
            "4.0       0.009440  0.897458  5.970474  0.041937  0.481332\n",
            "4.1       0.005111  1.008907  3.595893  0.037701  0.592025\n",
            "4.2       0.004734  1.076515  3.504482  0.035827  0.646585\n",
            "4.3       0.004740  1.083752  3.895861  0.032269  0.695647\n",
            "4.4       0.003138  1.042290  3.321370  0.025063  0.778002\n",
            "4.5      -0.006302  0.144832 -4.135822  0.040413  0.025366\n",
            "Fama-French 3\n",
            "               alpha  beta_mkt  beta_size  beta_hml   alpha_t      rmse  \\\n",
            "Portfolio                                                                \n",
            "0.0        0.010981  0.852358   1.606486  0.258001  4.383615  0.065810   \n",
            "0.1        0.003719  0.949582   1.583344  0.203421  1.607633  0.060780   \n",
            "0.2       -0.001231  1.070488   1.559569  0.137076 -0.612023  0.052842   \n",
            "0.3       -0.002974  1.148842   1.476861 -0.017171 -1.651860  0.047300   \n",
            "0.4       -0.004738  1.324262   1.054734 -0.022315 -2.768225  0.044961   \n",
            "0.5       -0.015719  0.471904  -0.551752 -0.280316 -6.492908  0.063600   \n",
            "1.0        0.004671  0.806628   1.189123  0.187153  3.111369  0.039439   \n",
            "1.1       -0.001593  1.000245   1.165107  0.028053 -1.318092  0.031742   \n",
            "1.2       -0.003774  1.134971   1.114917 -0.025324 -3.474659  0.028535   \n",
            "1.3       -0.004587  1.157585   0.967988 -0.152362 -4.162642  0.028951   \n",
            "1.4       -0.002885  1.206906   0.411486 -0.224669 -2.674315  0.028337   \n",
            "1.5       -0.007556  0.400278  -0.777637 -0.411821 -4.224055  0.046991   \n",
            "2.0        0.003452  0.798912   1.107396  0.253226  3.292056  0.027544   \n",
            "2.1       -0.000556  1.028320   1.005827  0.256122 -0.826902  0.017651   \n",
            "2.2       -0.001120  1.053206   0.812317  0.172968 -1.770000  0.016618   \n",
            "2.3       -0.000380  1.051067   0.481063  0.108252 -0.559422  0.017843   \n",
            "2.4       -0.000123  1.042417   0.025398  0.041513 -0.222614  0.014573   \n",
            "2.5       -0.003575  0.243505  -1.081997 -0.211713 -3.019598  0.031104   \n",
            "3.0        0.004167  0.769967   0.957266  0.380759  4.264330  0.025670   \n",
            "3.1        0.000563  0.914591   0.885472  0.497111  0.825994  0.017911   \n",
            "3.2        0.001036  0.981264   0.710195  0.481195  1.855136  0.014675   \n",
            "3.3        0.001137  0.982541   0.448118  0.420922  1.930093  0.015480   \n",
            "3.4        0.001594  0.977031   0.023749  0.356242  2.855747  0.014664   \n",
            "3.5       -0.002573  0.207064  -0.933517 -0.024516 -2.468792  0.027378   \n",
            "4.0        0.007225  0.748089   1.011565  0.373093  6.491042  0.029241   \n",
            "4.1        0.002201  0.898570   0.948564  0.564843  2.582187  0.022393   \n",
            "4.2        0.001422  0.996694   0.876871  0.682510  1.961888  0.019043   \n",
            "4.3        0.001446  1.037195   0.726790  0.707440  2.281551  0.016647   \n",
            "4.4        0.000458  1.076625   0.271630  0.638497  0.750227  0.016034   \n",
            "4.5       -0.006767  0.328536  -0.739934  0.265404 -5.426423  0.032760   \n",
            "\n",
            "                 R2  \n",
            "Portfolio            \n",
            "0.0        0.524762  \n",
            "0.1        0.584660  \n",
            "0.2        0.675080  \n",
            "0.3        0.731542  \n",
            "0.4        0.739842  \n",
            "0.5        0.132906  \n",
            "1.0        0.678676  \n",
            "1.1        0.806852  \n",
            "1.2        0.855460  \n",
            "1.3        0.847675  \n",
            "1.4        0.823424  \n",
            "1.5        0.260376  \n",
            "2.0        0.798385  \n",
            "2.1        0.923323  \n",
            "2.2        0.925627  \n",
            "2.3        0.897837  \n",
            "2.4        0.912223  \n",
            "2.5        0.505997  \n",
            "3.0        0.791331  \n",
            "3.1        0.900578  \n",
            "3.2        0.929033  \n",
            "3.3        0.908131  \n",
            "3.4        0.897035  \n",
            "3.5        0.495554  \n",
            "4.0        0.748553  \n",
            "4.1        0.856473  \n",
            "4.2        0.900437  \n",
            "4.3        0.919229  \n",
            "4.4        0.909394  \n",
            "4.5        0.361318  \n"
          ]
        }
      ],
      "source": [
        "\n",
        "### Market model regressions on E/P ~ Size###\n",
        "table_capm = []\n",
        "for p in range(nportfolios):\n",
        "  for n in range(nportfolios + 1):\n",
        "    # regress portfolio excess return on market excess return\n",
        "    results = sm.OLS(portfolios_ff['excess'+str(p)+'.'+str(n)],\n",
        "                     sm.add_constant(portfolios_ff['ExMkt'])).fit()\n",
        "\n",
        "    # collect results\n",
        "    table_row = pd.DataFrame({'alpha':results.params['const'],\n",
        "                              'beta_mkt':results.params['ExMkt'],\n",
        "                              'alpha_t':results.tvalues['const'],\n",
        "                              'rmse':np.sqrt(results.mse_resid),\n",
        "                              'R2':results.rsquared},\n",
        "                             index=[str(p)+'.'+str(n)])\n",
        "\n",
        "    table_capm += [table_row]\n",
        "\n",
        "# Combine the results for all portfolios\n",
        "table_capm = pd.concat(table_capm,axis=0)\n",
        "table_capm.index.name = 'quintile'\n",
        "\n",
        "# show results\n",
        "print(\"CAPM\\n\",table_capm)\n",
        "\n",
        "\n",
        "### Three Factor model regressions ###\n",
        "table_ff = []\n",
        "for p in range(nportfolios):\n",
        "  for n in range(nportfolios+1):\n",
        "    # regress portfolio excess return on market excess return\n",
        "    results = sm.OLS(portfolios_ff['excess'+str(p)+'.'+str(n)],\n",
        "                     sm.add_constant(portfolios_ff[['ExMkt','SMB','HML']])).fit()\n",
        "\n",
        "    # collect results\n",
        "    table_row = pd.DataFrame({'alpha':results.params['const'],\n",
        "                              'beta_mkt':results.params['ExMkt'],\n",
        "                              'beta_size':results.params['SMB'],\n",
        "                              'beta_hml':results.params['HML'],\n",
        "                              'alpha_t':results.tvalues['const'],\n",
        "                              'rmse':np.sqrt(results.mse_resid),\n",
        "                              'R2':results.rsquared},\n",
        "                             index=[str(p)+'.'+str(n)])\n",
        "\n",
        "    table_ff += [table_row]\n",
        "\n",
        "# Combine the results for all portfolios\n",
        "table_ff = pd.concat(table_ff,axis=0)\n",
        "table_ff.index.name = 'Portfolio'\n",
        "\n",
        "# show results\n",
        "print(\"Fama-French 3\\n\",table_ff)\n"
      ]
    },
    {
      "cell_type": "code",
      "source": [
        "\n",
        "### Market model regressions on E/P ~ Size###\n",
        "table_capm = []\n",
        "for p in range(nportfolios):\n",
        "  for n in range(nportfolios + 1):\n",
        "    # regress portfolio excess return on market excess return\n",
        "    results = sm.OLS(portfolios_ff_1['excess'+str(p)+'.'+str(n)],\n",
        "                     sm.add_constant(portfolios_ff_1['ExMkt'])).fit()\n",
        "\n",
        "    # collect results\n",
        "    table_row = pd.DataFrame({'alpha':results.params['const'],\n",
        "                              'beta_mkt':results.params['ExMkt'],\n",
        "                              'alpha_t':results.tvalues['const'],\n",
        "                              'rmse':np.sqrt(results.mse_resid),\n",
        "                              'R2':results.rsquared},\n",
        "                             index=[str(p)+'.'+str(n)])\n",
        "\n",
        "    table_capm += [table_row]\n",
        "\n",
        "# Combine the results for all portfolios\n",
        "table_capm = pd.concat(table_capm,axis=0)\n",
        "table_capm.index.name = 'quintile'\n",
        "\n",
        "# show results\n",
        "print(\"CAPM\\n\",table_capm)\n",
        "\n",
        "\n",
        "### Three Factor model regressions ###\n",
        "table_ff = []\n",
        "for p in range(nportfolios):\n",
        "  for n in range(nportfolios+1):\n",
        "    # regress portfolio excess return on market excess return\n",
        "    results = sm.OLS(portfolios_ff_1['excess'+str(p)+'.'+str(n)],\n",
        "                     sm.add_constant(portfolios_ff_1[['ExMkt','SMB','HML']])).fit()\n",
        "\n",
        "    # collect results\n",
        "    table_row = pd.DataFrame({'alpha':results.params['const'],\n",
        "                              'beta_mkt':results.params['ExMkt'],\n",
        "                              'beta_size':results.params['SMB'],\n",
        "                              'beta_hml':results.params['HML'],\n",
        "                              'alpha_t':results.tvalues['const'],\n",
        "                              'rmse':np.sqrt(results.mse_resid),\n",
        "                              'R2':results.rsquared},\n",
        "                             index=[str(p)+'.'+str(n)])\n",
        "\n",
        "    table_ff += [table_row]\n",
        "\n",
        "# Combine the results for all portfolios\n",
        "table_ff = pd.concat(table_ff,axis=0)\n",
        "table_ff.index.name = 'Portfolio'\n",
        "\n",
        "# show results\n",
        "print(\"Fama-French 3\\n\",table_ff)\n"
      ],
      "metadata": {
        "id": "9IBV_uwrIlbL",
        "colab": {
          "base_uri": "https://localhost:8080/"
        },
        "outputId": "3bdcc709-114f-4de9-dd6f-39f7fb137fcd"
      },
      "execution_count": null,
      "outputs": [
        {
          "output_type": "stream",
          "name": "stdout",
          "text": [
            "CAPM\n",
            "              alpha  beta_mkt   alpha_t      rmse        R2\n",
            "quintile                                                  \n",
            "0.0       0.008196  1.266045  2.442582  0.088993  0.290838\n",
            "0.1       0.008354  1.209280  3.004370  0.073754  0.352647\n",
            "0.2       0.008906  1.007827  4.047227  0.058366  0.376628\n",
            "0.3       0.008718  0.916491  5.046896  0.045817  0.447766\n",
            "0.4       0.009474  0.890698  5.954552  0.042200  0.474434\n",
            "0.5       0.001279 -0.375347  0.525463  0.064537  0.064148\n",
            "1.0       0.000836  1.406927  0.310518  0.071407  0.440294\n",
            "1.1      -0.001329  1.286490 -0.672020  0.052434  0.549516\n",
            "1.2       0.001505  1.075221  1.011384  0.039465  0.600664\n",
            "1.3       0.004338  0.928511  3.390823  0.033930  0.602776\n",
            "1.4       0.004933  0.973786  3.628749  0.036059  0.596411\n",
            "1.5       0.004097 -0.433141  1.912128  0.056836  0.105296\n",
            "2.0      -0.002511  1.519579 -1.130715  0.058902  0.574227\n",
            "2.1      -0.002817  1.354306 -1.717020  0.043511  0.662522\n",
            "2.2       0.001173  1.167098  0.964868  0.032239  0.726450\n",
            "2.3       0.002990  1.031209  2.506630  0.031639  0.682801\n",
            "2.4       0.004177  1.092835  3.106356  0.035667  0.655452\n",
            "2.5       0.006688 -0.426744  3.557836  0.049861  0.129250\n",
            "3.0      -0.003892  1.527568 -2.283442  0.045213  0.698171\n",
            "3.1      -0.001627  1.295123 -1.317628  0.032745  0.760193\n",
            "3.2       0.001349  1.094968  1.448119  0.024711  0.799146\n",
            "3.3       0.002650  1.011601  2.765774  0.025409  0.762581\n",
            "3.4       0.003682  1.083082  3.151043  0.030992  0.712211\n",
            "3.5       0.007574 -0.444486  4.499467  0.044649  0.167235\n",
            "4.0      -0.003293  1.375098 -2.667002  0.032752  0.781275\n",
            "4.1      -0.000730  1.143371 -1.136966  0.017029  0.901336\n",
            "4.2       0.000543  1.005628  0.991599  0.014529  0.906608\n",
            "4.3       0.002361  0.927628  3.498498  0.017897  0.844819\n",
            "4.4       0.002848  1.015323  3.165489  0.023866  0.785753\n",
            "4.5       0.006142 -0.359775  3.797136  0.042900  0.124739\n",
            "Fama-French 3\n",
            "               alpha  beta_mkt  beta_size  beta_hml   alpha_t      rmse  \\\n",
            "Portfolio                                                                \n",
            "0.0        0.005480  0.957342   1.796201  0.348138  1.990528  0.072323   \n",
            "0.1        0.006438  0.929699   1.540871  0.191921  2.871162  0.058910   \n",
            "0.2        0.007126  0.772688   1.322585  0.199701  4.236465  0.044190   \n",
            "0.3        0.006891  0.735803   1.088913  0.257746  5.457019  0.033173   \n",
            "0.4        0.007354  0.737671   1.012766  0.348373  6.492944  0.029753   \n",
            "0.5        0.001874 -0.219671  -0.783434  0.000235  0.814103  0.060465   \n",
            "1.0       -0.000992  1.084652   1.715968  0.134735 -0.506337  0.051453   \n",
            "1.1       -0.002591  1.031069   1.330596  0.064545 -1.910594  0.035627   \n",
            "1.2       -0.000235  0.900676   1.047924  0.243280 -0.245579  0.025148   \n",
            "1.3        0.002075  0.818690   0.844015  0.418376  2.502664  0.021776   \n",
            "1.4        0.002041  0.875151   0.893994  0.571059  2.515560  0.021310   \n",
            "1.5        0.003032 -0.209502  -0.821974  0.436324  1.615612  0.049306   \n",
            "2.0       -0.004025  1.232267   1.511537  0.093870 -2.674762  0.039531   \n",
            "2.1       -0.003654  1.124488   1.149983 -0.009782 -3.449620  0.027826   \n",
            "2.2       -0.000613  1.018712   0.939338  0.276445 -0.958612  0.016800   \n",
            "2.3        0.000356  0.936784   0.834438  0.515945  0.563394  0.016606   \n",
            "2.4        0.000807  1.020963   0.850965  0.702776  1.109055  0.019111   \n",
            "2.5        0.004832 -0.211303  -0.660572  0.608906  3.055426  0.041543   \n",
            "3.0       -0.004260  1.303684   1.049483 -0.111254 -3.403581  0.032880   \n",
            "3.1       -0.001918  1.113679   0.849536 -0.091607 -2.402598  0.020974   \n",
            "3.2       -0.000151  1.003445   0.642432  0.261098 -0.257184  0.015454   \n",
            "3.3        0.000339  0.966194   0.566219  0.485083  0.584787  0.015239   \n",
            "3.4        0.000511  1.048314   0.655100  0.689700  0.790808  0.016982   \n",
            "3.5        0.004771 -0.255369  -0.394383  0.800953  3.533656  0.035470   \n",
            "4.0       -0.002519  1.256373   0.403422 -0.278961 -2.272150  0.029130   \n",
            "4.1       -0.000299  1.095406   0.144257 -0.139603 -0.494057  0.015889   \n",
            "4.2       -0.000110  1.010062   0.083608  0.152175 -0.210433  0.013738   \n",
            "4.3        0.000817  0.967200   0.068781  0.384958  1.529057  0.014032   \n",
            "4.4        0.000301  1.068180   0.168471  0.624239  0.513237  0.015432   \n",
            "4.5        0.002821 -0.188193  -0.234951  0.903199  2.272794  0.032606   \n",
            "\n",
            "                 R2  \n",
            "Portfolio            \n",
            "0.0        0.532943  \n",
            "0.1        0.588171  \n",
            "0.2        0.643680  \n",
            "0.3        0.711308  \n",
            "0.4        0.739479  \n",
            "0.5        0.180820  \n",
            "1.0        0.710208  \n",
            "1.1        0.792615  \n",
            "1.2        0.838303  \n",
            "1.3        0.836841  \n",
            "1.4        0.859441  \n",
            "1.5        0.328542  \n",
            "2.0        0.808764  \n",
            "2.1        0.862367  \n",
            "2.2        0.925922  \n",
            "2.3        0.912865  \n",
            "2.4        0.901357  \n",
            "2.5        0.397237  \n",
            "3.0        0.840820  \n",
            "3.1        0.901892  \n",
            "3.2        0.921659  \n",
            "3.3        0.914839  \n",
            "3.4        0.913832  \n",
            "3.5        0.475913  \n",
            "4.0        0.827469  \n",
            "4.1        0.914338  \n",
            "4.2        0.916738  \n",
            "4.3        0.904870  \n",
            "4.4        0.910678  \n",
            "4.5        0.495805  \n"
          ]
        }
      ]
    },
    {
      "cell_type": "code",
      "execution_count": null,
      "metadata": {
        "id": "SNT1orHKbNTa",
        "colab": {
          "base_uri": "https://localhost:8080/"
        },
        "outputId": "b3c31b58-c307-4486-f8de-6159eb59e79e"
      },
      "outputs": [
        {
          "output_type": "stream",
          "name": "stdout",
          "text": [
            "3.5201393493860422\n"
          ]
        }
      ],
      "source": [
        "print(((1+table_capm['alpha'].mean(axis=0))**12-1)*100)"
      ]
    },
    {
      "cell_type": "code",
      "execution_count": null,
      "metadata": {
        "id": "Yoe4uFlIbNTa",
        "colab": {
          "base_uri": "https://localhost:8080/"
        },
        "outputId": "06432151-bde1-4f83-cbfe-6108cea549b2"
      },
      "outputs": [
        {
          "output_type": "stream",
          "name": "stdout",
          "text": [
            "1.4697312394496453\n"
          ]
        }
      ],
      "source": [
        "print(((1+table_ff['alpha'].mean(axis=0))**12-1)*100)"
      ]
    },
    {
      "cell_type": "code",
      "execution_count": null,
      "metadata": {
        "id": "mcbb4a3SbNTa"
      },
      "outputs": [],
      "source": []
    },
    {
      "cell_type": "code",
      "execution_count": null,
      "metadata": {
        "id": "Wc9e-Xi7bNTa"
      },
      "outputs": [],
      "source": []
    },
    {
      "cell_type": "code",
      "execution_count": null,
      "metadata": {
        "id": "DZ7yfvONbNTa"
      },
      "outputs": [],
      "source": []
    },
    {
      "cell_type": "code",
      "execution_count": null,
      "metadata": {
        "id": "_YLc6su5bNTa"
      },
      "outputs": [],
      "source": []
    },
    {
      "cell_type": "code",
      "execution_count": null,
      "metadata": {
        "id": "J9AHm6K6bNTa"
      },
      "outputs": [],
      "source": []
    },
    {
      "cell_type": "code",
      "execution_count": null,
      "metadata": {
        "id": "9pZOaGASbNTa"
      },
      "outputs": [],
      "source": []
    }
  ],
  "metadata": {
    "colab": {
      "provenance": [],
      "include_colab_link": true
    },
    "interpreter": {
      "hash": "4bf7354a9a62b5a751cc0be7c5d3036e575c74d4eae4fc5c0bbeda953fcfcaab"
    },
    "kernelspec": {
      "display_name": "Python 3 (ipykernel)",
      "language": "python",
      "name": "python3"
    },
    "language_info": {
      "codemirror_mode": {
        "name": "ipython",
        "version": 3
      },
      "file_extension": ".py",
      "mimetype": "text/x-python",
      "name": "python",
      "nbconvert_exporter": "python",
      "pygments_lexer": "ipython3",
      "version": "3.9.12"
    }
  },
  "nbformat": 4,
  "nbformat_minor": 0
}